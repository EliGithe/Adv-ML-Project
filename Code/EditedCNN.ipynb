{
 "cells": [
  {
   "cell_type": "code",
   "execution_count": null,
   "metadata": {
    "colab": {
     "base_uri": "https://localhost:8080/"
    },
    "id": "ifpRVKHIFxRV",
    "outputId": "12198e7f-c58c-4d0d-fcb9-5f36685d2f5e"
   },
   "outputs": [
    {
     "name": "stdout",
     "output_type": "stream",
     "text": [
      "--2022-05-15 16:36:01--  http://data.csail.mit.edu/places/places205/testSetPlaces205_resize.tar.gz\n",
      "Resolving data.csail.mit.edu (data.csail.mit.edu)... 128.52.129.40\n",
      "Connecting to data.csail.mit.edu (data.csail.mit.edu)|128.52.129.40|:80... connected.\n",
      "HTTP request sent, awaiting response... 200 OK\n",
      "Length: 2341250899 (2.2G) [application/octet-stream]\n",
      "Saving to: ‘testSetPlaces205_resize.tar.gz’\n",
      "\n",
      "testSetPlaces205_re 100%[===================>]   2.18G  34.5MB/s    in 65s     \n",
      "\n",
      "2022-05-15 16:37:07 (34.4 MB/s) - ‘testSetPlaces205_resize.tar.gz’ saved [2341250899/2341250899]\n",
      "\n"
     ]
    }
   ],
   "source": [
    "!wget http://data.csail.mit.edu/places/places205/testSetPlaces205_resize.tar.gz\n"
   ]
  },
  {
   "cell_type": "code",
   "execution_count": null,
   "metadata": {
    "id": "P1YsTIamEHEq"
   },
   "outputs": [],
   "source": [
    "!tar -xzf testSetPlaces205_resize.tar.gz"
   ]
  },
  {
   "cell_type": "code",
   "execution_count": null,
   "metadata": {
    "id": "-2NXiXzBLVRf"
   },
   "outputs": [],
   "source": [
    "import tensorflow\n",
    "from tensorflow.keras.layers import Conv2D, UpSampling2D\n",
    "from tensorflow.keras.layers import Activation, Dense, Dropout, Flatten\n",
    "from tensorflow.keras.layers import Normalization\n",
    "from tensorflow.keras.models import Sequential\n",
    "from tensorflow.keras.layers import BatchNormalization\n",
    "from tensorflow.keras.layers import InputLayer\n",
    "from tensorflow.keras.preprocessing.image import ImageDataGenerator, array_to_img, img_to_array, load_img\n",
    "from skimage.color import rgb2lab, lab2rgb, rgb2gray\n",
    "from skimage.io import imsave\n",
    "import numpy as np\n",
    "import random\n",
    "import PIL\n",
    "from PIL import Image"
   ]
  },
  {
   "cell_type": "code",
   "execution_count": null,
   "metadata": {
    "id": "XclvgGW9NJNY"
   },
   "outputs": [],
   "source": [
    "import shutil"
   ]
  },
  {
   "cell_type": "code",
   "execution_count": null,
   "metadata": {
    "id": "q4f8FBHGMH7n"
   },
   "outputs": [],
   "source": [
    "\n",
    "import os"
   ]
  },
  {
   "cell_type": "code",
   "execution_count": null,
   "metadata": {
    "id": "97teH0WjFyZk"
   },
   "outputs": [],
   "source": [
    "os.makedirs('images/blackval/class/', exist_ok=True)\n",
    "os.makedirs('images/train/class/', exist_ok=True) # 40,000 images\n",
    "os.makedirs('images/val/class/', exist_ok=True)   #  1,000 images\n",
    "for i, file in enumerate(os.listdir('testSet_resize')):\n",
    "  if(i<1000): \n",
    "    img = Image.open('testSet_resize/'+file)\n",
    "    imgGray = img.convert('L')\n",
    "    imgGray.save(str(i)+'.jpg')\n",
    "    shutil.copyfile(str(i)+'.jpg', 'images/blackval/class/'+str(i)+'.jpg')\n",
    "    os.rename('testSet_resize/' + file, 'images/val/class/' + file)\n",
    "  elif(i > 1000 and i<6000):\n",
    "    os.rename('testSet_resize/' + file, 'images/train/class/' + file)\n",
    "\n",
    " \n",
    "\n"
   ]
  },
  {
   "cell_type": "code",
   "execution_count": null,
   "metadata": {
    "colab": {
     "base_uri": "https://localhost:8080/"
    },
    "id": "VLz0WBVYK0vw",
    "outputId": "59f87eef-c03d-4825-8920-0d89c07bd0bc"
   },
   "outputs": [
    {
     "name": "stdout",
     "output_type": "stream",
     "text": [
      "4999\n"
     ]
    }
   ],
   "source": [
    "import os, os.path\n",
    "a=os.listdir('images/train/class/')\n",
    "number_files=len(a)\n",
    "print(number_files)"
   ]
  },
  {
   "cell_type": "code",
   "execution_count": null,
   "metadata": {
    "id": "whm5Xk4YGRtZ"
   },
   "outputs": [],
   "source": []
  },
  {
   "cell_type": "code",
   "execution_count": null,
   "metadata": {
    "id": "ebFfTTzQGJLo"
   },
   "outputs": [],
   "source": [
    "def make_model():\n",
    "    model = Sequential()\n",
    "    model.add(InputLayer(input_shape=(256, 256, 1)))\n",
    "    model.add(Conv2D(64, (3, 3), activation='relu', padding='same'))\n",
    "    model.add(Conv2D(64, (3, 3), activation='relu', padding='same', strides=2))\n",
    "    model.add(Conv2D(128, (3, 3), activation='relu', padding='same'))\n",
    "    model.add(Conv2D(128, (3, 3), activation='relu', padding='same', strides=2))\n",
    "    model.add(Conv2D(256, (3, 3), activation='relu', padding='same'))\n",
    "    model.add(Conv2D(256, (3, 3), activation='relu', padding='same', strides=2))\n",
    "    model.add(Conv2D(512, (3, 3), activation='relu', padding='same'))\n",
    "    model.add(Conv2D(256, (3, 3), activation='relu', padding='same'))\n",
    "    model.add(Conv2D(128, (3, 3), activation='relu', padding='same'))\n",
    "    model.add(UpSampling2D((2, 2)))\n",
    "    model.add(Conv2D(64, (3, 3), activation='relu', padding='same'))\n",
    "    model.add(UpSampling2D((2, 2)))\n",
    "    model.add(Conv2D(32, (3, 3), activation='relu', padding='same'))\n",
    "    model.add(Conv2D(2, (3, 3), activation='tanh', padding='same'))\n",
    "    model.add(UpSampling2D((2, 2)))\n",
    "    opt = tensorflow.keras.optimizers.Adam(learning_rate=0.001)\n",
    "    #Any higher of a learning rate SUCKED and made us have much higher error\n",
    "    model.compile(loss='MSE', optimizer=opt)\n",
    "    return (model)\n",
    "\n",
    "  \n"
   ]
  },
  {
   "cell_type": "code",
   "execution_count": null,
   "metadata": {
    "colab": {
     "base_uri": "https://localhost:8080/"
    },
    "id": "KTUsBVVXl7Fy",
    "outputId": "778a0edb-dccb-4aa5-abe2-c12e6c354c68"
   },
   "outputs": [
    {
     "name": "stdout",
     "output_type": "stream",
     "text": [
      "Model: \"sequential\"\n",
      "_________________________________________________________________\n",
      " Layer (type)                Output Shape              Param #   \n",
      "=================================================================\n",
      " conv2d (Conv2D)             (None, 256, 256, 64)      640       \n",
      "                                                                 \n",
      " conv2d_1 (Conv2D)           (None, 128, 128, 64)      36928     \n",
      "                                                                 \n",
      " conv2d_2 (Conv2D)           (None, 128, 128, 128)     73856     \n",
      "                                                                 \n",
      " conv2d_3 (Conv2D)           (None, 64, 64, 128)       147584    \n",
      "                                                                 \n",
      " conv2d_4 (Conv2D)           (None, 64, 64, 256)       295168    \n",
      "                                                                 \n",
      " conv2d_5 (Conv2D)           (None, 32, 32, 256)       590080    \n",
      "                                                                 \n",
      " conv2d_6 (Conv2D)           (None, 32, 32, 512)       1180160   \n",
      "                                                                 \n",
      " conv2d_7 (Conv2D)           (None, 32, 32, 256)       1179904   \n",
      "                                                                 \n",
      " conv2d_8 (Conv2D)           (None, 32, 32, 128)       295040    \n",
      "                                                                 \n",
      " up_sampling2d (UpSampling2D  (None, 64, 64, 128)      0         \n",
      " )                                                               \n",
      "                                                                 \n",
      " conv2d_9 (Conv2D)           (None, 64, 64, 64)        73792     \n",
      "                                                                 \n",
      " up_sampling2d_1 (UpSampling  (None, 128, 128, 64)     0         \n",
      " 2D)                                                             \n",
      "                                                                 \n",
      " conv2d_10 (Conv2D)          (None, 128, 128, 32)      18464     \n",
      "                                                                 \n",
      " conv2d_11 (Conv2D)          (None, 128, 128, 2)       578       \n",
      "                                                                 \n",
      " up_sampling2d_2 (UpSampling  (None, 256, 256, 2)      0         \n",
      " 2D)                                                             \n",
      "                                                                 \n",
      "=================================================================\n",
      "Total params: 3,892,194\n",
      "Trainable params: 3,892,194\n",
      "Non-trainable params: 0\n",
      "_________________________________________________________________\n"
     ]
    }
   ],
   "source": [
    "model = make_model()\n",
    "model.summary()"
   ]
  },
  {
   "cell_type": "code",
   "execution_count": null,
   "metadata": {
    "id": "1ueUkoSqeMrK"
   },
   "outputs": [],
   "source": [
    "import os\n",
    "Y=[]\n",
    "for filename in os.listdir('images/val/class/'):\n",
    "    Y.append(img_to_array(load_img('images/val/class/'+filename)))\n",
    "Y = np.array(Y, dtype=float)"
   ]
  },
  {
   "cell_type": "code",
   "execution_count": null,
   "metadata": {
    "id": "5_NkenMLe4x2"
   },
   "outputs": [],
   "source": [
    "X=[]\n",
    "i=0\n",
    "for filename in os.listdir('images/train/class/'):\n",
    "    X.append(img_to_array(load_img('images/train/class/'+filename)))\n",
    "X = np.array(X, dtype=float)"
   ]
  },
  {
   "cell_type": "code",
   "execution_count": null,
   "metadata": {
    "id": "zng7X-7CmKpn"
   },
   "outputs": [],
   "source": [
    "def normalize(X):\n",
    "    norm_X = np.zeros(X.shape)\n",
    "    norm_X[:,:,:,0] =  X[:,:,:,0]/100.0\n",
    "    norm_X[:,:,:,1:] = X[:,:,:,1:]/128.0\n",
    "    return(norm_X)\n",
    "X = normalize(X)"
   ]
  },
  {
   "cell_type": "code",
   "execution_count": null,
   "metadata": {
    "id": "0q2xeB6eeZB2"
   },
   "outputs": [],
   "source": [
    "# Image transformer\n",
    "datagen = ImageDataGenerator(\n",
    "        shear_range=0.2,\n",
    "        zoom_range=0.2,\n",
    "        rotation_range=20,\n",
    "        horizontal_flip=True)\n",
    "\n",
    "split = int(0.90*len(X))\n",
    "Xtrain = X[:split]\n",
    "Xtrain = 1.0/255*Xtrain"
   ]
  },
  {
   "cell_type": "code",
   "execution_count": null,
   "metadata": {
    "id": "yg9xESf3TyCj"
   },
   "outputs": [],
   "source": []
  },
  {
   "cell_type": "code",
   "execution_count": null,
   "metadata": {
    "id": "KzzgrxHJnUI-"
   },
   "outputs": [],
   "source": [
    "\n",
    "batch_size = 50\n",
    "def image_a_b_gen(batch_size):\n",
    "    for batch in datagen.flow(Xtrain, batch_size=batch_size):\n",
    "        X_batch = batch[:,:,:,0]\n",
    "        Y_batch = batch[:,:,:,1:] / 128\n",
    "        yield (X_batch, Y_batch)"
   ]
  },
  {
   "cell_type": "code",
   "execution_count": null,
   "metadata": {
    "colab": {
     "base_uri": "https://localhost:8080/"
    },
    "id": "fpsMOM3Ln1ST",
    "outputId": "32f71eff-4f66-401b-e229-efc90a4465f8"
   },
   "outputs": [
    {
     "name": "stdout",
     "output_type": "stream",
     "text": [
      "Epoch 1/10\n",
      "100/100 [==============================] - 75s 632ms/step - loss: 1.0075e-07\n",
      "Epoch 2/10\n",
      "100/100 [==============================] - 62s 616ms/step - loss: 4.0970e-09\n",
      "Epoch 3/10\n",
      "100/100 [==============================] - 61s 613ms/step - loss: 5.7941e-10\n",
      "Epoch 4/10\n",
      "100/100 [==============================] - 61s 614ms/step - loss: 3.3137e-10\n",
      "Epoch 5/10\n",
      "100/100 [==============================] - 61s 612ms/step - loss: 3.1500e-10\n",
      "Epoch 6/10\n",
      "100/100 [==============================] - 62s 615ms/step - loss: 3.1438e-10\n",
      "Epoch 7/10\n",
      "100/100 [==============================] - 62s 619ms/step - loss: 3.1378e-10\n",
      "Epoch 8/10\n",
      "100/100 [==============================] - 61s 614ms/step - loss: 3.1338e-10\n",
      "Epoch 9/10\n",
      "100/100 [==============================] - 62s 617ms/step - loss: 3.1293e-10\n",
      "Epoch 10/10\n",
      "100/100 [==============================] - 62s 615ms/step - loss: 3.1083e-10\n"
     ]
    }
   ],
   "source": [
    "loss=model.fit(image_a_b_gen(batch_size), steps_per_epoch=100, epochs=10)"
   ]
  },
  {
   "cell_type": "code",
   "execution_count": null,
   "metadata": {
    "colab": {
     "base_uri": "https://localhost:8080/"
    },
    "id": "vYYyfw_SGYDT",
    "outputId": "76b1407c-7b8e-49d9-c075-e3608a602288"
   },
   "outputs": [
    {
     "name": "stdout",
     "output_type": "stream",
     "text": [
      "10/10 [==============================] - 1s 113ms/step - loss: 6.4901e-07\n",
      "6.490140549431089e-07\n"
     ]
    }
   ],
   "source": [
    "Xtest = rgb2lab(1.0/255*X[split:])[:,:,:,0]\n",
    "Xtest = Xtest.reshape(Xtest.shape+(1,))\n",
    "Ytest = rgb2lab(1.0/255*X[split:])[:,:,:,1:]\n",
    "Ytest = Ytest / 128\n",
    "print(model.evaluate(Xtest, Ytest, batch_size=batch_size))\n"
   ]
  },
  {
   "cell_type": "code",
   "execution_count": null,
   "metadata": {
    "id": "O-9QRQiYIzma"
   },
   "outputs": [],
   "source": [
    "color_me = []\n",
    "for filename in os.listdir('images/val/class/'):\n",
    "        color_me.append(img_to_array(load_img('images/val/class/'+filename)))\n",
    "color_me = np.array(color_me, dtype=float)\n",
    "color_me = rgb2lab(1.0/255*color_me)[:,:,:,0]\n",
    "color_me = color_me.reshape(color_me.shape+(1,))# Test model\n",
    "output = model.predict(color_me)\n",
    "output = output * 128# Output colorizations\n"
   ]
  },
  {
   "cell_type": "code",
   "execution_count": null,
   "metadata": {
    "id": "RG4KRV5If0p8"
   },
   "outputs": [],
   "source": []
  },
  {
   "cell_type": "code",
   "execution_count": null,
   "metadata": {
    "id": "rUedX-aTh0zf"
   },
   "outputs": [],
   "source": [
    "os.makedirs('images/output', exist_ok=True)\n"
   ]
  },
  {
   "cell_type": "code",
   "execution_count": null,
   "metadata": {
    "id": "w_QBkTXyILAD"
   },
   "outputs": [],
   "source": [
    "for i in range(len(output)):\n",
    "        cur = np.zeros((256, 256, 3))\n",
    "        cur[:,:,0] = color_me[i][:,:,0]\n",
    "        cur[:,:,1:] = output[i]\n",
    "        imsave(\"images/output\"+str(i)+\".png\", lab2rgb(cur))"
   ]
  },
  {
   "cell_type": "code",
   "execution_count": null,
   "metadata": {
    "colab": {
     "base_uri": "https://localhost:8080/",
     "height": 290
    },
    "id": "ZxVH8tlhIqQ8",
    "outputId": "cfa0596f-f603-4747-842f-dab974ae0525"
   },
   "outputs": [
    {
     "data": {
      "image/png": "[encoded data removed]",
      "text/plain": [
       "<Figure size 432x288 with 1 Axes>"
      ]
     },
     "metadata": {
      "needs_background": "light"
     },
     "output_type": "display_data"
    }
   ],
   "source": [
    "import matplotlib.pyplot as plt\n",
    "for key in loss.history.keys():\n",
    "    plt.plot(loss.history[key],label=\"Error\")\n",
    "ax=plt.gca()\n",
    "ax.locator_params('y', nbins=10)\n",
    "plt.locator_params('x', nbins=10)\n",
    "plt.xlabel(\"# Epoch\")\n",
    "plt.ylabel(\"MSE\")\n",
    "plt.legend()\n",
    "plt.show()"
   ]
  },
  {
   "cell_type": "code",
   "execution_count": null,
   "metadata": {
    "id": "zkLtnlrT1txE"
   },
   "outputs": [],
   "source": [
    "x"
   ]
  }
 ],
 "metadata": {
  "accelerator": "GPU",
  "colab": {
   "collapsed_sections": [],
   "machine_shape": "hm",
   "name": "EditedCNN.ipynb",
   "provenance": []
  },
  "kernelspec": {
   "display_name": "Python 3",
   "language": "python",
   "name": "python3"
  },
  "language_info": {
   "codemirror_mode": {
    "name": "ipython",
    "version": 3
   },
   "file_extension": ".py",
   "mimetype": "text/x-python",
   "name": "python",
   "nbconvert_exporter": "python",
   "pygments_lexer": "ipython3",
   "version": "3.8.5"
  }
 },
 "nbformat": 4,
 "nbformat_minor": 1
}
