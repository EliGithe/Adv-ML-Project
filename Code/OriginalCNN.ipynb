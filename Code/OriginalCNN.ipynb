{
 "cells": [
  {
   "cell_type": "code",
   "execution_count": null,
   "metadata": {
    "colab": {
     "base_uri": "https://localhost:8080/"
    },
    "id": "ifpRVKHIFxRV",
    "outputId": "e8ae0f0d-9ce0-457b-fb04-1960f17438a4"
   },
   "outputs": [
    {
     "name": "stdout",
     "output_type": "stream",
     "text": [
      "--2022-05-15 15:37:59--  http://data.csail.mit.edu/places/places205/testSetPlaces205_resize.tar.gz\n",
      "Resolving data.csail.mit.edu (data.csail.mit.edu)... 128.52.129.40\n",
      "Connecting to data.csail.mit.edu (data.csail.mit.edu)|128.52.129.40|:80... connected.\n",
      "HTTP request sent, awaiting response... 200 OK\n",
      "Length: 2341250899 (2.2G) [application/octet-stream]\n",
      "Saving to: ‘testSetPlaces205_resize.tar.gz’\n",
      "\n",
      "testSetPlaces205_re 100%[===================>]   2.18G  35.4MB/s    in 66s     \n",
      "\n",
      "2022-05-15 15:39:05 (33.7 MB/s) - ‘testSetPlaces205_resize.tar.gz’ saved [2341250899/2341250899]\n",
      "\n"
     ]
    }
   ],
   "source": [
    "!wget http://data.csail.mit.edu/places/places205/testSetPlaces205_resize.tar.gz\n"
   ]
  },
  {
   "cell_type": "code",
   "execution_count": null,
   "metadata": {
    "id": "P1YsTIamEHEq"
   },
   "outputs": [],
   "source": [
    "!tar -xzf testSetPlaces205_resize.tar.gz"
   ]
  },
  {
   "cell_type": "code",
   "execution_count": null,
   "metadata": {
    "id": "-2NXiXzBLVRf"
   },
   "outputs": [],
   "source": [
    "import tensorflow\n",
    "from tensorflow.keras.layers import Conv2D, UpSampling2D\n",
    "from tensorflow.keras.layers import Activation, Dense, Dropout, Flatten\n",
    "from tensorflow.keras.layers import Normalization\n",
    "from tensorflow.keras.models import Sequential\n",
    "from tensorflow.keras.layers import BatchNormalization\n",
    "from tensorflow.keras.layers import InputLayer\n",
    "from tensorflow.keras.preprocessing.image import ImageDataGenerator, array_to_img, img_to_array, load_img\n",
    "from skimage.color import rgb2lab, lab2rgb, rgb2gray\n",
    "from skimage.io import imsave\n",
    "import numpy as np\n",
    "import random\n",
    "import PIL\n",
    "from PIL import Image"
   ]
  },
  {
   "cell_type": "code",
   "execution_count": null,
   "metadata": {
    "id": "XclvgGW9NJNY"
   },
   "outputs": [],
   "source": [
    "import shutil"
   ]
  },
  {
   "cell_type": "code",
   "execution_count": null,
   "metadata": {
    "id": "q4f8FBHGMH7n"
   },
   "outputs": [],
   "source": [
    "\n",
    "import os"
   ]
  },
  {
   "cell_type": "code",
   "execution_count": null,
   "metadata": {
    "id": "97teH0WjFyZk"
   },
   "outputs": [],
   "source": [
    "os.makedirs('images/blackval/class/', exist_ok=True)\n",
    "os.makedirs('images/train/class/', exist_ok=True) # 40,000 images\n",
    "os.makedirs('images/val/class/', exist_ok=True)   #  1,000 images\n",
    "for i, file in enumerate(os.listdir('testSet_resize')):\n",
    "  if(i<1000): \n",
    "    img = Image.open('testSet_resize/'+file)\n",
    "    imgGray = img.convert('L')\n",
    "    imgGray.save(str(i)+'.jpg')\n",
    "    shutil.copyfile(str(i)+'.jpg', 'images/blackval/class/'+str(i)+'.jpg')\n",
    "    os.rename('testSet_resize/' + file, 'images/val/class/' + file)\n",
    "  elif(i > 1000 and i<6000):\n",
    "    os.rename('testSet_resize/' + file, 'images/train/class/' + file)\n",
    "\n",
    " \n",
    "\n"
   ]
  },
  {
   "cell_type": "code",
   "execution_count": null,
   "metadata": {
    "colab": {
     "base_uri": "https://localhost:8080/"
    },
    "id": "VLz0WBVYK0vw",
    "outputId": "98c2eeac-04ea-4040-e1c8-0779e680282f"
   },
   "outputs": [
    {
     "name": "stdout",
     "output_type": "stream",
     "text": [
      "4999\n"
     ]
    }
   ],
   "source": [
    "import os, os.path\n",
    "a=os.listdir('images/train/class/')\n",
    "number_files=len(a)\n",
    "print(number_files)"
   ]
  },
  {
   "cell_type": "code",
   "execution_count": null,
   "metadata": {
    "id": "whm5Xk4YGRtZ"
   },
   "outputs": [],
   "source": []
  },
  {
   "cell_type": "code",
   "execution_count": null,
   "metadata": {
    "id": "ebFfTTzQGJLo"
   },
   "outputs": [],
   "source": [
    "\n",
    "model = Sequential()\n",
    "model.add(InputLayer(input_shape=(256, 256, 1)))\n",
    "model.add(Conv2D(64, (3, 3), activation='relu', padding='same'))\n",
    "model.add(Conv2D(64, (3, 3), activation='relu', padding='same', strides=2))\n",
    "model.add(Conv2D(128, (3, 3), activation='relu', padding='same'))\n",
    "model.add(Conv2D(128, (3, 3), activation='relu', padding='same', strides=2))\n",
    "model.add(Conv2D(256, (3, 3), activation='relu', padding='same'))\n",
    "model.add(Conv2D(256, (3, 3), activation='relu', padding='same', strides=2))\n",
    "model.add(Conv2D(512, (3, 3), activation='relu', padding='same'))\n",
    "model.add(Conv2D(256, (3, 3), activation='relu', padding='same'))\n",
    "model.add(Conv2D(128, (3, 3), activation='relu', padding='same'))\n",
    "model.add(UpSampling2D((2, 2)))\n",
    "model.add(Conv2D(64, (3, 3), activation='relu', padding='same'))\n",
    "model.add(UpSampling2D((2, 2)))\n",
    "model.add(Conv2D(32, (3, 3), activation='relu', padding='same'))\n",
    "model.add(Conv2D(2, (3, 3), activation='tanh', padding='same'))\n",
    "model.add(UpSampling2D((2, 2)))\n",
    "opt = tensorflow.keras.optimizers.Adam(learning_rate=0.001)\n",
    "model.compile(loss='MSE', optimizer=opt)\n"
   ]
  },
  {
   "cell_type": "code",
   "execution_count": null,
   "metadata": {
    "id": "1ueUkoSqeMrK"
   },
   "outputs": [],
   "source": [
    "import os\n",
    "Y=[]\n",
    "for filename in os.listdir('images/val/class/'):\n",
    "    Y.append(img_to_array(load_img('images/val/class/'+filename)))\n",
    "Y = np.array(Y, dtype=float)"
   ]
  },
  {
   "cell_type": "code",
   "execution_count": null,
   "metadata": {
    "id": "5_NkenMLe4x2"
   },
   "outputs": [],
   "source": [
    "X=[]\n",
    "i=0\n",
    "for filename in os.listdir('images/train/class/'):\n",
    "    X.append(img_to_array(load_img('images/train/class/'+filename)))\n",
    "X = np.array(X, dtype=float)"
   ]
  },
  {
   "cell_type": "code",
   "execution_count": null,
   "metadata": {
    "id": "0q2xeB6eeZB2"
   },
   "outputs": [],
   "source": [
    "# Image transformer\n",
    "datagen = ImageDataGenerator(\n",
    "        shear_range=0.2,\n",
    "        zoom_range=0.2,\n",
    "        rotation_range=20,\n",
    "        horizontal_flip=True)\n",
    "\n",
    "split = int(0.90*len(X))\n",
    "Xtrain = X[:split]\n",
    "Xtrain = 1.0/255*Xtrain"
   ]
  },
  {
   "cell_type": "code",
   "execution_count": null,
   "metadata": {
    "id": "yg9xESf3TyCj"
   },
   "outputs": [],
   "source": []
  },
  {
   "cell_type": "code",
   "execution_count": null,
   "metadata": {
    "id": "KzzgrxHJnUI-"
   },
   "outputs": [],
   "source": [
    "\n",
    "batch_size = 50\n",
    "def image_a_b_gen(batch_size):\n",
    "    for batch in datagen.flow(Xtrain, batch_size=batch_size):\n",
    "        lab_batch = rgb2lab(batch)\n",
    "        X_batch = lab_batch[:,:,:,0]\n",
    "        Y_batch = lab_batch[:,:,:,1:] / 128\n",
    "        yield (X_batch.reshape(X_batch.shape+(1,)), Y_batch)"
   ]
  },
  {
   "cell_type": "code",
   "execution_count": null,
   "metadata": {
    "colab": {
     "base_uri": "https://localhost:8080/"
    },
    "id": "fpsMOM3Ln1ST",
    "outputId": "00ffb6a3-06d2-41cc-ca27-b85e912e0b3e"
   },
   "outputs": [
    {
     "name": "stdout",
     "output_type": "stream",
     "text": [
      "Epoch 1/10\n",
      "100/100 [==============================] - 114s 1s/step - loss: 0.0356\n",
      "Epoch 2/10\n",
      "100/100 [==============================] - 114s 1s/step - loss: 0.0123\n",
      "Epoch 3/10\n",
      "100/100 [==============================] - 114s 1s/step - loss: 0.0120\n",
      "Epoch 4/10\n",
      "100/100 [==============================] - 114s 1s/step - loss: 0.0122\n",
      "Epoch 5/10\n",
      "100/100 [==============================] - 113s 1s/step - loss: 0.0122\n",
      "Epoch 6/10\n",
      "100/100 [==============================] - 114s 1s/step - loss: 0.0122\n",
      "Epoch 7/10\n",
      "100/100 [==============================] - 113s 1s/step - loss: 0.0120\n",
      "Epoch 8/10\n",
      "100/100 [==============================] - 113s 1s/step - loss: 0.0121\n",
      "Epoch 9/10\n",
      "100/100 [==============================] - 113s 1s/step - loss: 0.0123\n",
      "Epoch 10/10\n",
      "100/100 [==============================] - 113s 1s/step - loss: 0.0121\n"
     ]
    }
   ],
   "source": [
    "loss=model.fit(image_a_b_gen(batch_size), steps_per_epoch=100, epochs=10)"
   ]
  },
  {
   "cell_type": "code",
   "execution_count": null,
   "metadata": {
    "colab": {
     "base_uri": "https://localhost:8080/"
    },
    "id": "vYYyfw_SGYDT",
    "outputId": "ca00f03e-3ce6-4b1f-93ac-d2b4ee59d6bb"
   },
   "outputs": [
    {
     "name": "stdout",
     "output_type": "stream",
     "text": [
      "10/10 [==============================] - 1s 113ms/step - loss: 0.0121\n",
      "0.012103937566280365\n"
     ]
    }
   ],
   "source": [
    "Xtest = rgb2lab(1.0/255*X[split:])[:,:,:,0]\n",
    "Xtest = Xtest.reshape(Xtest.shape+(1,))\n",
    "Ytest = rgb2lab(1.0/255*X[split:])[:,:,:,1:]\n",
    "Ytest = Ytest / 128\n",
    "print(model.evaluate(Xtest, Ytest, batch_size=batch_size))\n"
   ]
  },
  {
   "cell_type": "code",
   "execution_count": null,
   "metadata": {
    "id": "O-9QRQiYIzma"
   },
   "outputs": [],
   "source": [
    "color_me = []\n",
    "for filename in os.listdir('images/val/class/'):\n",
    "        color_me.append(img_to_array(load_img('images/val/class/'+filename)))\n",
    "color_me = np.array(color_me, dtype=float)\n",
    "color_me = rgb2lab(1.0/255*color_me)[:,:,:,0]\n",
    "color_me = color_me.reshape(color_me.shape+(1,))# Test model\n",
    "output = model.predict(color_me)\n",
    "output = output * 128# Output colorizations\n"
   ]
  },
  {
   "cell_type": "code",
   "execution_count": null,
   "metadata": {
    "id": "RG4KRV5If0p8"
   },
   "outputs": [],
   "source": []
  },
  {
   "cell_type": "code",
   "execution_count": null,
   "metadata": {
    "id": "rUedX-aTh0zf"
   },
   "outputs": [],
   "source": [
    "os.makedirs('images/output', exist_ok=True)\n"
   ]
  },
  {
   "cell_type": "code",
   "execution_count": null,
   "metadata": {
    "id": "w_QBkTXyILAD"
   },
   "outputs": [],
   "source": [
    "for i in range(len(output)):\n",
    "        cur = np.zeros((256, 256, 3))\n",
    "        cur[:,:,0] = color_me[i][:,:,0]\n",
    "        cur[:,:,1:] = output[i]\n",
    "        imsave(\"images/output\"+str(i)+\".png\", lab2rgb(cur))"
   ]
  },
  {
   "cell_type": "code",
   "execution_count": null,
   "metadata": {
    "colab": {
     "base_uri": "https://localhost:8080/",
     "height": 295
    },
    "id": "ZxVH8tlhIqQ8",
    "outputId": "9dd27971-506b-4991-951c-80ad8c1f79a8"
   },
   "outputs": [
    {
     "data": {
      "image/png": "[encoded data removed]",
      "text/plain": [
       "<Figure size 432x288 with 1 Axes>"
      ]
     },
     "metadata": {
      "needs_background": "light"
     },
     "output_type": "display_data"
    }
   ],
   "source": [
    "import matplotlib.pyplot as plt\n",
    "for key in loss.history.keys():\n",
    "    plt.plot(loss.history[key],label=\"Error\")\n",
    "plt.xlabel(\"# Epoch\")\n",
    "plt.ylabel(\"MSE\")\n",
    "plt.title(\"MSE per Epoch of our constructed CNN with places data\")\n",
    "plt.legend()\n",
    "plt.show()"
   ]
  },
  {
   "cell_type": "code",
   "execution_count": null,
   "metadata": {
    "id": "zkLtnlrT1txE"
   },
   "outputs": [],
   "source": [
    "x"
   ]
  }
 ],
 "metadata": {
  "accelerator": "GPU",
  "colab": {
   "collapsed_sections": [],
   "machine_shape": "hm",
   "name": "OriginalCNN.ipynb",
   "provenance": []
  },
  "kernelspec": {
   "display_name": "Python 3",
   "language": "python",
   "name": "python3"
  },
  "language_info": {
   "codemirror_mode": {
    "name": "ipython",
    "version": 3
   },
   "file_extension": ".py",
   "mimetype": "text/x-python",
   "name": "python",
   "nbconvert_exporter": "python",
   "pygments_lexer": "ipython3",
   "version": "3.8.5"
  }
 },
 "nbformat": 4,
 "nbformat_minor": 1
}
